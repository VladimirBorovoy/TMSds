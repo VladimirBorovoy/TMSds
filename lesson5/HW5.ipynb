{
 "cells": [
  {
   "cell_type": "code",
   "execution_count": 15,
   "id": "28269551",
   "metadata": {},
   "outputs": [
    {
     "data": {
      "text/plain": [
       "['a', 'abc', 'ab', 'anananna', 'ahhsh', 'hdahh']"
      ]
     },
     "execution_count": 15,
     "metadata": {},
     "output_type": "execute_result"
    }
   ],
   "source": [
    "'''\n",
    "Напишите функцию для разделения строки и преобразовуания ее в список слов.\n",
    "'''\n",
    "\n",
    "inp: str = \"a abc ab anananna ahhsh hdahh\"\n",
    "\n",
    "lst = inp.split()\n",
    "lst"
   ]
  },
  {
   "cell_type": "code",
   "execution_count": 22,
   "id": "44c2e5e9",
   "metadata": {},
   "outputs": [
    {
     "name": "stdout",
     "output_type": "stream",
     "text": [
      "2\n"
     ]
    }
   ],
   "source": [
    "'''\n",
    "Натан любит кататься на велосипеде. Поскольку Натан знает, как важно избегать обезвоживания, он выпивает 0.5 литра воды за час езды на велосипеде.\n",
    "Вам дано время в часах, и вам нужно вернуть количество литров, которое выпьет натан, округленное до наименьшего значения.\n",
    "'''\n",
    "\n",
    "time: int = 4\n",
    "\n",
    "print(int(time * 0.5))"
   ]
  },
  {
   "cell_type": "code",
   "execution_count": 26,
   "id": "bd9135cf",
   "metadata": {},
   "outputs": [
    {
     "name": "stdout",
     "output_type": "stream",
     "text": [
      "[5, 4, 3, 2, 1]\n"
     ]
    }
   ],
   "source": [
    "'''\n",
    "Создайте функцию, которая возвращает список целых чисел от n до 1.\n",
    "'''\n",
    "\n",
    "def reversed_list(temp: list) -> list:\n",
    "    return temp[::-1]\n",
    "\n",
    "lst: list = [1,2,3,4,5]\n",
    "print(reversed_list(lst))"
   ]
  },
  {
   "cell_type": "code",
   "execution_count": 41,
   "id": "8278506d",
   "metadata": {},
   "outputs": [
    {
     "name": "stdout",
     "output_type": "stream",
     "text": [
      "19\n"
     ]
    }
   ],
   "source": [
    "'''\n",
    "Учитывая год, верните столетие, в котором он находится.\n",
    "'''\n",
    "\n",
    "year: int = 1900\n",
    "\n",
    "a = (year // 100) + 1 if year % 100 != 0 else year // 100\n",
    "print(a)"
   ]
  },
  {
   "cell_type": "code",
   "execution_count": 47,
   "id": "a2dd68ad",
   "metadata": {},
   "outputs": [
    {
     "name": "stdout",
     "output_type": "stream",
     "text": [
      "23410979\n",
      "[9, 7, 9, 0, 1, 4, 3, 2]\n"
     ]
    }
   ],
   "source": [
    "'''\n",
    "Учитывая случайное неотрицательное число, необходимо вернуть цифры этого числа в массиве в обратном порядке\n",
    "'''\n",
    "import random\n",
    "num: int = random.randint(0, 99999999)\n",
    "print(num)\n",
    "lst: list = []\n",
    "while (num != 0):\n",
    "    lst.append(num % 10)\n",
    "    num //=10\n",
    "print(lst)"
   ]
  },
  {
   "cell_type": "code",
   "execution_count": 99,
   "id": "c755f5a1",
   "metadata": {},
   "outputs": [
    {
     "name": "stdout",
     "output_type": "stream",
     "text": [
      "[[1, 4, 9, 16, 25], [36, 49, 64, 81, 100], [121, 144, 169, 196, 225], [256, 289, 324, 361, 400], [441, 484, 529, 576, 625]]\n",
      "[[1, 100, 121, 400, 441], [4, 81, 144, 361, 484], [9, 64, 169, 324, 529], [16, 49, 196, 289, 576], [25, 36, 225, 256, 625]]\n"
     ]
    },
    {
     "data": {
      "text/plain": [
       "[[1, 4, 9, 16, 25],\n",
       " [100, 81, 64, 49, 36],\n",
       " [121, 144, 169, 196, 225],\n",
       " [400, 361, 324, 289, 256],\n",
       " [441, 484, 529, 576, 625]]"
      ]
     },
     "execution_count": 99,
     "metadata": {},
     "output_type": "execute_result"
    }
   ],
   "source": [
    "'''\n",
    "Получить квадратные матрицы порядка n, элементами которых являются \n",
    "заданные действительные числа 1,2,...n*n, расположенные по схемам\n",
    "'''\n",
    "\n",
    "matrix: list = []\n",
    "\n",
    "n: int = 5\n",
    "counter: int = 0\n",
    "for i in range(n):\n",
    "    temp = []\n",
    "    for j in range(n):\n",
    "        counter += 1\n",
    "        temp.append(counter ** 2)\n",
    "    matrix.append(temp)\n",
    "print(matrix)\n",
    "\n",
    "matrix2: list = []\n",
    "for i in range(n):\n",
    "    temp = []\n",
    "    for j in range(n):\n",
    "        if (j % 2 == 0):\n",
    "            temp.append(matrix[j][i])\n",
    "        else:\n",
    "            temp.append(matrix[j][n - i - 1])\n",
    "    matrix2.append(temp)\n",
    "print(matrix2)\n",
    "\n",
    "matrix3: list = []\n",
    "for i in range(n):\n",
    "    temp = []\n",
    "    if (i % 2 == 0):\n",
    "        matrix3.append(matrix[i])\n",
    "    else:\n",
    "        temp = matrix[i]\n",
    "        matrix3.append(temp[::-1])\n",
    "matrix3"
   ]
  },
  {
   "cell_type": "code",
   "execution_count": null,
   "id": "439c4f9c",
   "metadata": {},
   "outputs": [],
   "source": []
  }
 ],
 "metadata": {
  "kernelspec": {
   "display_name": "Python 3",
   "language": "python",
   "name": "python3"
  },
  "language_info": {
   "codemirror_mode": {
    "name": "ipython",
    "version": 3
   },
   "file_extension": ".py",
   "mimetype": "text/x-python",
   "name": "python",
   "nbconvert_exporter": "python",
   "pygments_lexer": "ipython3",
   "version": "3.8.8"
  }
 },
 "nbformat": 4,
 "nbformat_minor": 5
}
