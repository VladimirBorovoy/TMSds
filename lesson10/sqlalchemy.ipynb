{
 "cells": [
  {
   "cell_type": "code",
   "execution_count": 1,
   "id": "2994f006",
   "metadata": {},
   "outputs": [],
   "source": [
    "import sqlalchemy"
   ]
  },
  {
   "cell_type": "code",
   "execution_count": 2,
   "id": "9c2c4af9",
   "metadata": {},
   "outputs": [],
   "source": [
    "import sqlalchemy as db"
   ]
  },
  {
   "cell_type": "code",
   "execution_count": 20,
   "id": "a903556c",
   "metadata": {},
   "outputs": [],
   "source": [
    "import random\n",
    "from sqlalchemy import Column, Integer, Text, ForeignKey, func"
   ]
  },
  {
   "cell_type": "code",
   "execution_count": 4,
   "id": "988088cf",
   "metadata": {},
   "outputs": [],
   "source": [
    "engine = db.create_engine('sqlite:///mydb.db')"
   ]
  },
  {
   "cell_type": "code",
   "execution_count": 5,
   "id": "00a787a0",
   "metadata": {},
   "outputs": [],
   "source": [
    "conn = engine.connect()"
   ]
  },
  {
   "cell_type": "code",
   "execution_count": 6,
   "id": "97a16756",
   "metadata": {},
   "outputs": [],
   "source": [
    "metadata = db.MetaData()"
   ]
  },
  {
   "cell_type": "code",
   "execution_count": 7,
   "id": "f022947a",
   "metadata": {},
   "outputs": [
    {
     "data": {
      "text/plain": [
       "['ARRAY',\n",
       " 'BIGINT',\n",
       " 'BINARY',\n",
       " 'BLANK_SCHEMA',\n",
       " 'BLOB',\n",
       " 'BOOLEAN',\n",
       " 'BigInteger',\n",
       " 'Boolean',\n",
       " 'CHAR',\n",
       " 'CLOB',\n",
       " 'CheckConstraint',\n",
       " 'Column',\n",
       " 'ColumnDefault',\n",
       " 'Computed',\n",
       " 'Constraint',\n",
       " 'DATE',\n",
       " 'DATETIME',\n",
       " 'DDL',\n",
       " 'DECIMAL',\n",
       " 'Date',\n",
       " 'DateTime',\n",
       " 'DefaultClause',\n",
       " 'Enum',\n",
       " 'FLOAT',\n",
       " 'FetchedValue',\n",
       " 'Float',\n",
       " 'ForeignKey',\n",
       " 'ForeignKeyConstraint',\n",
       " 'INT',\n",
       " 'INTEGER',\n",
       " 'Identity',\n",
       " 'Index',\n",
       " 'Integer',\n",
       " 'Interval',\n",
       " 'JSON',\n",
       " 'LABEL_STYLE_DEFAULT',\n",
       " 'LABEL_STYLE_DISAMBIGUATE_ONLY',\n",
       " 'LABEL_STYLE_NONE',\n",
       " 'LABEL_STYLE_TABLENAME_PLUS_COL',\n",
       " 'LargeBinary',\n",
       " 'MetaData',\n",
       " 'NCHAR',\n",
       " 'NUMERIC',\n",
       " 'NVARCHAR',\n",
       " 'Numeric',\n",
       " 'PickleType',\n",
       " 'PrimaryKeyConstraint',\n",
       " 'REAL',\n",
       " 'SMALLINT',\n",
       " 'Sequence',\n",
       " 'SmallInteger',\n",
       " 'String',\n",
       " 'TEXT',\n",
       " 'TIME',\n",
       " 'TIMESTAMP',\n",
       " 'Table',\n",
       " 'Text',\n",
       " 'ThreadLocalMetaData',\n",
       " 'Time',\n",
       " 'TupleType',\n",
       " 'TypeDecorator',\n",
       " 'Unicode',\n",
       " 'UnicodeText',\n",
       " 'UniqueConstraint',\n",
       " 'VARBINARY',\n",
       " 'VARCHAR',\n",
       " '__all__',\n",
       " '__builtins__',\n",
       " '__cached__',\n",
       " '__doc__',\n",
       " '__file__',\n",
       " '__go',\n",
       " '__loader__',\n",
       " '__name__',\n",
       " '__package__',\n",
       " '__path__',\n",
       " '__spec__',\n",
       " '__version__',\n",
       " '_util',\n",
       " 'alias',\n",
       " 'all_',\n",
       " 'and_',\n",
       " 'any_',\n",
       " 'asc',\n",
       " 'between',\n",
       " 'bindparam',\n",
       " 'case',\n",
       " 'cast',\n",
       " 'cimmutabledict',\n",
       " 'collate',\n",
       " 'column',\n",
       " 'cprocessors',\n",
       " 'create_engine',\n",
       " 'create_mock_engine',\n",
       " 'cresultproxy',\n",
       " 'delete',\n",
       " 'desc',\n",
       " 'dialects',\n",
       " 'distinct',\n",
       " 'engine',\n",
       " 'engine_from_config',\n",
       " 'event',\n",
       " 'events',\n",
       " 'exc',\n",
       " 'except_',\n",
       " 'except_all',\n",
       " 'exists',\n",
       " 'extract',\n",
       " 'false',\n",
       " 'func',\n",
       " 'funcfilter',\n",
       " 'insert',\n",
       " 'inspect',\n",
       " 'inspection',\n",
       " 'intersect',\n",
       " 'intersect_all',\n",
       " 'join',\n",
       " 'lambda_stmt',\n",
       " 'lateral',\n",
       " 'literal',\n",
       " 'literal_column',\n",
       " 'log',\n",
       " 'modifier',\n",
       " 'not_',\n",
       " 'null',\n",
       " 'nulls_first',\n",
       " 'nulls_last',\n",
       " 'nullsfirst',\n",
       " 'nullslast',\n",
       " 'or_',\n",
       " 'outerjoin',\n",
       " 'outparam',\n",
       " 'over',\n",
       " 'pool',\n",
       " 'processors',\n",
       " 'schema',\n",
       " 'select',\n",
       " 'sql',\n",
       " 'subquery',\n",
       " 'table',\n",
       " 'tablesample',\n",
       " 'text',\n",
       " 'true',\n",
       " 'tuple_',\n",
       " 'type_coerce',\n",
       " 'types',\n",
       " 'union',\n",
       " 'union_all',\n",
       " 'update',\n",
       " 'util',\n",
       " 'values',\n",
       " 'within_group']"
      ]
     },
     "execution_count": 7,
     "metadata": {},
     "output_type": "execute_result"
    }
   ],
   "source": [
    "dir(db)"
   ]
  },
  {
   "cell_type": "code",
   "execution_count": 8,
   "id": "4bf89a05",
   "metadata": {},
   "outputs": [],
   "source": [
    "users = db.Table(\n",
    "    'users', metadata,\n",
    "    db.Column('id', db.Integer, primary_key=True),\n",
    "    db.Column('name', db.String),\n",
    "    db.Column('email', db.String),\n",
    ")"
   ]
  },
  {
   "cell_type": "code",
   "execution_count": 9,
   "id": "e5d093c9",
   "metadata": {},
   "outputs": [],
   "source": [
    "trains = db.Table(\n",
    "    'trains', metadata,\n",
    "    db.Column('id', db.Integer, primary_key=True),\n",
    "    db.Column('name', db.String),\n",
    "    db.Column('route', db.String),\n",
    ")"
   ]
  },
  {
   "cell_type": "code",
   "execution_count": 10,
   "id": "7e58b491",
   "metadata": {},
   "outputs": [],
   "source": [
    "tickets = db.Table(\n",
    "    'tickets', metadata,\n",
    "    db.Column('id', db.Integer, primary_key=True),\n",
    "    db.Column('user_id', db.Integer, db.ForeignKey('users.id')),\n",
    "    db.Column('train_id', db.Integer, db.ForeignKey('trains.id')),\n",
    "    db.Column('way', db.Integer), # 0 - tuda 1 - tuda obratno\n",
    "    db.Column('price', db.Integer),\n",
    "    db.Column('departure_station', db.String),\n",
    "    db.Column('arrival_station', db.String),\n",
    ")"
   ]
  },
  {
   "cell_type": "code",
   "execution_count": 11,
   "id": "31247b34",
   "metadata": {},
   "outputs": [],
   "source": [
    "stations = db.Table(\n",
    "    'stations', metadata,\n",
    "    db.Column('id', db.Integer, primary_key=True),\n",
    "    db.Column('name', db.String),\n",
    ")"
   ]
  },
  {
   "cell_type": "code",
   "execution_count": null,
   "id": "9e462e85",
   "metadata": {},
   "outputs": [],
   "source": []
  },
  {
   "cell_type": "code",
   "execution_count": null,
   "id": "4aee3f7a",
   "metadata": {},
   "outputs": [],
   "source": []
  },
  {
   "cell_type": "code",
   "execution_count": 12,
   "id": "4c872eda",
   "metadata": {},
   "outputs": [],
   "source": [
    "metadata.create_all(engine)"
   ]
  },
  {
   "cell_type": "code",
   "execution_count": 13,
   "id": "67798ec0",
   "metadata": {},
   "outputs": [],
   "source": [
    "users_data = [{'name': f'User{i}', 'email': f'user{i}@example.com'} for i in range(1, 11)]\n",
    "trains_data = [{'name': f'Train{i}', 'route': f'Route{i}'} for i in range(1, 11)]\n",
    "stations_data = [{'name': f'Station{i}'} for i in range(1, 11)]\n",
    "\n",
    "tickets_data = [\n",
    "    {'user_id': i, 'train_id': i, 'way': random.randint(0, 1),'price': i * random.randint(1, 10),\n",
    "     'departure_station': f'Station{random.randint(1, 10)}', 'arrival_station': f'Station{random.randint(1, 10)}'}\n",
    "    for i in range(1, 11)\n",
    "]"
   ]
  },
  {
   "cell_type": "code",
   "execution_count": 14,
   "id": "819a60c3",
   "metadata": {},
   "outputs": [],
   "source": [
    "insert_users = users.insert().values(users_data)\n",
    "insert_trains = trains.insert().values(trains_data)\n",
    "insert_stations = stations.insert().values(stations_data)\n",
    "insert_tickets = tickets.insert().values(tickets_data)"
   ]
  },
  {
   "cell_type": "code",
   "execution_count": 15,
   "id": "88f002f0",
   "metadata": {},
   "outputs": [
    {
     "data": {
      "text/plain": [
       "<sqlalchemy.engine.cursor.LegacyCursorResult at 0x16ec6122290>"
      ]
     },
     "execution_count": 15,
     "metadata": {},
     "output_type": "execute_result"
    }
   ],
   "source": [
    "conn.execute(insert_users)\n",
    "conn.execute(insert_trains)\n",
    "conn.execute(insert_stations)\n",
    "conn.execute(insert_tickets)"
   ]
  },
  {
   "cell_type": "code",
   "execution_count": 16,
   "id": "04846490",
   "metadata": {},
   "outputs": [],
   "source": [
    "all_users = conn.execute(users.select()).fetchall()\n",
    "all_trains = conn.execute(trains.select()).fetchall()\n",
    "all_stations = conn.execute(stations.select()).fetchall()\n",
    "all_tickets = conn.execute(tickets.select()).fetchall()"
   ]
  },
  {
   "cell_type": "code",
   "execution_count": 17,
   "id": "f8004cb1",
   "metadata": {},
   "outputs": [
    {
     "name": "stdout",
     "output_type": "stream",
     "text": [
      "Users:\n",
      "ID: 1, Name: User1, Email: user1@example.com\n",
      "ID: 2, Name: User2, Email: user2@example.com\n",
      "ID: 3, Name: User3, Email: user3@example.com\n",
      "ID: 4, Name: User4, Email: user4@example.com\n",
      "ID: 5, Name: User5, Email: user5@example.com\n",
      "ID: 6, Name: User6, Email: user6@example.com\n",
      "ID: 7, Name: User7, Email: user7@example.com\n",
      "ID: 8, Name: User8, Email: user8@example.com\n",
      "ID: 9, Name: User9, Email: user9@example.com\n",
      "ID: 10, Name: User10, Email: user10@example.com\n",
      "\n",
      "Trains:\n",
      "ID: 1, Name: Train1, Route: Route1\n",
      "ID: 2, Name: Train2, Route: Route2\n",
      "ID: 3, Name: Train3, Route: Route3\n",
      "ID: 4, Name: Train4, Route: Route4\n",
      "ID: 5, Name: Train5, Route: Route5\n",
      "ID: 6, Name: Train6, Route: Route6\n",
      "ID: 7, Name: Train7, Route: Route7\n",
      "ID: 8, Name: Train8, Route: Route8\n",
      "ID: 9, Name: Train9, Route: Route9\n",
      "ID: 10, Name: Train10, Route: Route10\n",
      "\n",
      "Stations:\n",
      "ID: 1, Name: Station1\n",
      "ID: 2, Name: Station2\n",
      "ID: 3, Name: Station3\n",
      "ID: 4, Name: Station4\n",
      "ID: 5, Name: Station5\n",
      "ID: 6, Name: Station6\n",
      "ID: 7, Name: Station7\n",
      "ID: 8, Name: Station8\n",
      "ID: 9, Name: Station9\n",
      "ID: 10, Name: Station10\n",
      "\n",
      "Tickets:\n",
      "ID: 1, User ID: 1,  Train ID: 1, Way: 0, Price: 3, Departure Station: Station3, Arrival Station: Station1\n",
      "ID: 2, User ID: 2,  Train ID: 2, Way: 0, Price: 12, Departure Station: Station5, Arrival Station: Station10\n",
      "ID: 3, User ID: 3,  Train ID: 3, Way: 1, Price: 27, Departure Station: Station10, Arrival Station: Station4\n",
      "ID: 4, User ID: 4,  Train ID: 4, Way: 1, Price: 40, Departure Station: Station5, Arrival Station: Station5\n",
      "ID: 5, User ID: 5,  Train ID: 5, Way: 1, Price: 50, Departure Station: Station10, Arrival Station: Station6\n",
      "ID: 6, User ID: 6,  Train ID: 6, Way: 1, Price: 18, Departure Station: Station3, Arrival Station: Station5\n",
      "ID: 7, User ID: 7,  Train ID: 7, Way: 0, Price: 7, Departure Station: Station9, Arrival Station: Station9\n",
      "ID: 8, User ID: 8,  Train ID: 8, Way: 1, Price: 24, Departure Station: Station5, Arrival Station: Station8\n",
      "ID: 9, User ID: 9,  Train ID: 9, Way: 1, Price: 54, Departure Station: Station6, Arrival Station: Station3\n",
      "ID: 10, User ID: 10,  Train ID: 10, Way: 1, Price: 60, Departure Station: Station4, Arrival Station: Station4\n"
     ]
    }
   ],
   "source": [
    "print(\"Users:\")\n",
    "for user in all_users:\n",
    "    print(f\"ID: {user.id}, Name: {user.name}, Email: {user.email}\")\n",
    "\n",
    "print(\"\\nTrains:\")\n",
    "for train in all_trains:\n",
    "    print(f\"ID: {train.id}, Name: {train.name}, Route: {train.route}\")\n",
    "\n",
    "print(\"\\nStations:\")\n",
    "for station in all_stations:\n",
    "    print(f\"ID: {station.id}, Name: {station.name}\")\n",
    "\n",
    "print(\"\\nTickets:\")\n",
    "for ticket in all_tickets:\n",
    "    print(f\"ID: {ticket.id}, User ID: {ticket.user_id},  Train ID: {ticket.train_id}, Way: {ticket.way}, Price: {ticket.price}, \"\n",
    "          f\"Departure Station: {ticket.departure_station}, Arrival Station: {ticket.arrival_station}\")\n"
   ]
  },
  {
   "cell_type": "code",
   "execution_count": 25,
   "id": "d7349ab8",
   "metadata": {},
   "outputs": [
    {
     "name": "stdout",
     "output_type": "stream",
     "text": [
      "[(27, 7)]\n"
     ]
    }
   ],
   "source": [
    "# having\n",
    "select_having = conn.execute(db.select(tickets.c.price, func.count(tickets.c.user_id)).group_by(tickets.c.way).having(tickets.c.price > 10 ))\n",
    "result = select_having.fetchall()\n",
    "print(result)"
   ]
  },
  {
   "cell_type": "code",
   "execution_count": null,
   "id": "a6a500fc",
   "metadata": {},
   "outputs": [],
   "source": [
    "#union\n",
    "select_users_trains = conn.execute(db.select(users.c.name, users.c.email).union(db.select(trains.c.name, trains.c.route)))\n",
    "result = select_users_trains.fetchall()\n",
    "print(result)"
   ]
  },
  {
   "cell_type": "code",
   "execution_count": 30,
   "id": "26c6ca31",
   "metadata": {},
   "outputs": [
    {
     "name": "stdout",
     "output_type": "stream",
     "text": [
      "[('Train1', 'Station3'), ('Train2', 'Station5'), ('Train3', 'Station10'), ('Train4', 'Station5'), ('Train5', 'Station10'), ('Train6', 'Station3'), ('Train7', 'Station9'), ('Train8', 'Station5'), ('Train9', 'Station6'), ('Train10', 'Station4')]\n"
     ]
    }
   ],
   "source": [
    "# inner join\n",
    "select_join = conn.execute(db.select(trains.c.name, tickets.c.departure_station).select_from(trains.join(tickets, trains.c.id == tickets.c.train_id))).all()\n",
    "result = select_join\n",
    "print(result)"
   ]
  },
  {
   "cell_type": "code",
   "execution_count": null,
   "id": "7bd63041",
   "metadata": {},
   "outputs": [],
   "source": [
    "conn.close()"
   ]
  },
  {
   "cell_type": "code",
   "execution_count": null,
   "id": "9ae4bf72",
   "metadata": {},
   "outputs": [],
   "source": []
  }
 ],
 "metadata": {
  "kernelspec": {
   "display_name": "Python 3 (ipykernel)",
   "language": "python",
   "name": "python3"
  },
  "language_info": {
   "codemirror_mode": {
    "name": "ipython",
    "version": 3
   },
   "file_extension": ".py",
   "mimetype": "text/x-python",
   "name": "python",
   "nbconvert_exporter": "python",
   "pygments_lexer": "ipython3",
   "version": "3.11.5"
  }
 },
 "nbformat": 4,
 "nbformat_minor": 5
}
