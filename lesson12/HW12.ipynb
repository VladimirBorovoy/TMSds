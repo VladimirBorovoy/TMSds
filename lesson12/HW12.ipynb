{
 "cells": [
  {
   "cell_type": "code",
   "execution_count": 2,
   "id": "c232fc6f",
   "metadata": {},
   "outputs": [],
   "source": [
    "import numpy as np\n",
    "from scipy import stats\n",
    "import matplotlib.pyplot as plt\n",
    "from scipy.special import perm, comb, factorial\n",
    "import math"
   ]
  },
  {
   "cell_type": "code",
   "execution_count": 3,
   "id": "23816e5d",
   "metadata": {},
   "outputs": [
    {
     "data": {
      "text/plain": [
       "24360.0"
      ]
     },
     "execution_count": 3,
     "metadata": {},
     "output_type": "execute_result"
    }
   ],
   "source": [
    "'''\n",
    "В группе 30 студентов. Необходимо выбрать старосту, заместителя старосты и\n",
    "профорга. Сколько существует способов это сделать?\n",
    "'''\n",
    "\n",
    "k = np.array(3)\n",
    "n = np.array(30)\n",
    "perm(n, k)"
   ]
  },
  {
   "cell_type": "code",
   "execution_count": 4,
   "id": "0ebc1502",
   "metadata": {},
   "outputs": [
    {
     "data": {
      "text/plain": [
       "1024"
      ]
     },
     "execution_count": 4,
     "metadata": {},
     "output_type": "execute_result"
    }
   ],
   "source": [
    "'''\n",
    "Два почтальона должны разнести 10 писем по 10 адресам. Сколькими\n",
    "способами они могут распределить работу?\n",
    "'''\n",
    "\n",
    "2 ** 10"
   ]
  },
  {
   "cell_type": "code",
   "execution_count": 5,
   "id": "314ca127",
   "metadata": {},
   "outputs": [
    {
     "data": {
      "text/plain": [
       "80"
      ]
     },
     "execution_count": 5,
     "metadata": {},
     "output_type": "execute_result"
    }
   ],
   "source": [
    "'''\n",
    " В ящике 100 деталей, из них 30 – деталей 1-го сорта, 50 – 2-го, остальные – 3-\n",
    "го. Сколько существует способов извлечения из ящика одной детали 1-го или 2-го сорта?\n",
    "'''\n",
    "\n",
    "30 + 50"
   ]
  },
  {
   "cell_type": "code",
   "execution_count": 12,
   "id": "5d833be5",
   "metadata": {},
   "outputs": [
    {
     "data": {
      "text/plain": [
       "5040"
      ]
     },
     "execution_count": 12,
     "metadata": {},
     "output_type": "execute_result"
    }
   ],
   "source": [
    "'''\n",
    "Порядок выступления 7 участников конкурса определяется жребием. Сколько\n",
    "различных вариантов жеребьевки при этом возможно?\n",
    "'''\n",
    "\n",
    "math.factorial(7)"
   ]
  },
  {
   "cell_type": "code",
   "execution_count": 15,
   "id": "3a53220c",
   "metadata": {},
   "outputs": [
    {
     "data": {
      "text/plain": [
       "100000"
      ]
     },
     "execution_count": 15,
     "metadata": {},
     "output_type": "execute_result"
    }
   ],
   "source": [
    "'''\n",
    "В конкурсе по 5 номинациям участвуют 10 кинофильмов. Сколько существует\n",
    "вариантов распределения призов, если по всем номинациям установлены различные\n",
    "премии?\n",
    "'''\n",
    "\n",
    "10 ** 5"
   ]
  },
  {
   "cell_type": "code",
   "execution_count": 18,
   "id": "91044807",
   "metadata": {},
   "outputs": [
    {
     "data": {
      "text/plain": [
       "120"
      ]
     },
     "execution_count": 18,
     "metadata": {},
     "output_type": "execute_result"
    }
   ],
   "source": [
    "'''\n",
    "В шахматном турнире участвуют 16 человек. Сколько партий должно быть\n",
    "сыграно в турнире, если между любыми двумя участниками должна быть сыграна одна\n",
    "партия?\n",
    "'''\n",
    "\n",
    "k = np.array(2)\n",
    "n = np.array(16)\n",
    "comb(n, k, exact=True, repetition=False)"
   ]
  },
  {
   "cell_type": "code",
   "execution_count": 19,
   "id": "99d69271",
   "metadata": {},
   "outputs": [
    {
     "data": {
      "text/plain": [
       "2002"
      ]
     },
     "execution_count": 19,
     "metadata": {},
     "output_type": "execute_result"
    }
   ],
   "source": [
    "'''\n",
    "В условиях задачи 6 определить, сколько существует вариантов распределения\n",
    "призов, если по всем номинациям установлены одинаковые призы?\n",
    "'''\n",
    "\n",
    "k = np.array(5)\n",
    "n = np.array(10)\n",
    "comb(n, k, exact=True, repetition=True)"
   ]
  },
  {
   "cell_type": "code",
   "execution_count": 20,
   "id": "845cfe39",
   "metadata": {},
   "outputs": [
    {
     "data": {
      "text/plain": [
       "56"
      ]
     },
     "execution_count": 20,
     "metadata": {},
     "output_type": "execute_result"
    }
   ],
   "source": [
    "'''\n",
    "Садовник должен в течении трех дней посадить 6 деревьев. Сколькими\n",
    "способами он может распределить по дням работу, если будет сажать не менее одного\n",
    "дерева в день?\n",
    "'''\n",
    "\n",
    "k = np.array(3)\n",
    "n = np.array(6)\n",
    "comb(n, k, exact=True, repetition=True)"
   ]
  },
  {
   "cell_type": "code",
   "execution_count": null,
   "id": "cf98f203",
   "metadata": {},
   "outputs": [],
   "source": [
    "'''\n",
    "Сколько существует четырехзначных чисел (возможно, начинающихся с нуля),\n",
    "сумма цифр которых равна 5?\n",
    "'''\n",
    "\n"
   ]
  },
  {
   "cell_type": "code",
   "execution_count": 6,
   "id": "2dab01a6",
   "metadata": {},
   "outputs": [
    {
     "data": {
      "text/plain": [
       "16360143800.0"
      ]
     },
     "execution_count": 6,
     "metadata": {},
     "output_type": "execute_result"
    }
   ],
   "source": [
    "'''\n",
    "Сколькими способами можно разбить группу из 25 студентов на три подгруппы\n",
    "А, В и С по 6, 9 и 10 человек соответственно?\n",
    "'''\n",
    "\n",
    "math.factorial(25)/(math.factorial(6)*math.factorial(9)*math.factorial(10))"
   ]
  },
  {
   "cell_type": "code",
   "execution_count": 5,
   "id": "696cb793",
   "metadata": {},
   "outputs": [
    {
     "data": {
      "text/plain": [
       "210.0"
      ]
     },
     "execution_count": 5,
     "metadata": {},
     "output_type": "execute_result"
    }
   ],
   "source": [
    "'''\n",
    "Сколько существует семизначных чисел, состоящих из цифр 4, 5 и 6, в которых\n",
    "цифра 4 повторяется 3 раза, а цифры 5 и 6 – по 2 раза?\n",
    "'''\n",
    "\n",
    "math.factorial(7)/(math.factorial(3)*math.factorial(2)*math.factorial(2))"
   ]
  },
  {
   "cell_type": "code",
   "execution_count": 8,
   "id": "73d6a69a",
   "metadata": {},
   "outputs": [
    {
     "data": {
      "text/plain": [
       "0.11904761904761905"
      ]
     },
     "execution_count": 8,
     "metadata": {},
     "output_type": "execute_result"
    }
   ],
   "source": [
    "'''\n",
    "В ящике 5 апельсинов и 4 яблока. Наудачу выбираются 3 фрукта. Какова\n",
    "вероятность, что все три фрукта – апельсины?\n",
    "'''\n",
    "\n",
    "5/9 * 4/8 * 3/7"
   ]
  },
  {
   "cell_type": "code",
   "execution_count": 13,
   "id": "941d73cd",
   "metadata": {},
   "outputs": [
    {
     "data": {
      "text/plain": [
       "0.28"
      ]
     },
     "execution_count": 13,
     "metadata": {},
     "output_type": "execute_result"
    }
   ],
   "source": [
    "'''\n",
    "Преподаватель предлагает каждому из трех студентов задумать любое число от\n",
    "1 до 10. Считая, что выбор каждым из студентов любого числа из заданных\n",
    "равновозможен, найти вероятность того, что у кого-то из них задуманные числа совпадут.\n",
    "'''\n",
    "\n",
    "(1000 - 10 * 9 * 8) / 1000"
   ]
  },
  {
   "cell_type": "code",
   "execution_count": null,
   "id": "8b676605",
   "metadata": {},
   "outputs": [],
   "source": [
    "'''\n",
    "Найти вероятность того, что в 8-значном числе ровно 4 цифры совпадают, а\n",
    "остальные различны.\n",
    "'''\n",
    "\n"
   ]
  },
  {
   "cell_type": "code",
   "execution_count": 3,
   "id": "60e6194a",
   "metadata": {},
   "outputs": [
    {
     "data": {
      "text/plain": [
       "0.1152"
      ]
     },
     "execution_count": 3,
     "metadata": {},
     "output_type": "execute_result"
    }
   ],
   "source": [
    "'''\n",
    "Шесть клиентов случайным образом обращаются в 5 фирм. Найти вероятность\n",
    "того, что хотя бы в одну фирму никто не обратится\n",
    "'''\n",
    "\n",
    "(5 * math.factorial(6) / math.factorial(2)) / 5 ** 6"
   ]
  },
  {
   "cell_type": "code",
   "execution_count": 4,
   "id": "6a6d5809",
   "metadata": {},
   "outputs": [
    {
     "data": {
      "text/plain": [
       "0.5238095238095237"
      ]
     },
     "execution_count": 4,
     "metadata": {},
     "output_type": "execute_result"
    }
   ],
   "source": [
    "10/15 * 9/14 + 5/15 * 4/14"
   ]
  },
  {
   "cell_type": "code",
   "execution_count": null,
   "id": "ce955783",
   "metadata": {},
   "outputs": [],
   "source": []
  }
 ],
 "metadata": {
  "kernelspec": {
   "display_name": "Python 3 (ipykernel)",
   "language": "python",
   "name": "python3"
  },
  "language_info": {
   "codemirror_mode": {
    "name": "ipython",
    "version": 3
   },
   "file_extension": ".py",
   "mimetype": "text/x-python",
   "name": "python",
   "nbconvert_exporter": "python",
   "pygments_lexer": "ipython3",
   "version": "3.11.5"
  }
 },
 "nbformat": 4,
 "nbformat_minor": 5
}
