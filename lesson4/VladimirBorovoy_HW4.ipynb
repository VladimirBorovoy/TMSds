{
 "cells": [
  {
   "cell_type": "code",
   "execution_count": 1,
   "id": "33ff652a",
   "metadata": {},
   "outputs": [
    {
     "name": "stdout",
     "output_type": "stream",
     "text": [
      "2.775368323057839\n"
     ]
    }
   ],
   "source": [
    "'''\n",
    "Написать функцию, вычисляющее значение функции при х = 1.79\n",
    "'''\n",
    "import math\n",
    "\n",
    "x: float = 1.79\n",
    "\n",
    "print((math.cos(math.e ** x) + math.log(1 + x) ** 2 + \n",
    "      math.sqrt(math.e ** math.cos(x) + math.sin(math.pi * x) ** 2)\n",
    "      + math.sqrt(1 / x) + math.cos(x * x)) ** math.sin(x))"
   ]
  },
  {
   "cell_type": "code",
   "execution_count": 2,
   "id": "39436c1e",
   "metadata": {},
   "outputs": [
    {
     "name": "stdout",
     "output_type": "stream",
     "text": [
      "Есть контакт\n"
     ]
    }
   ],
   "source": [
    "'''\n",
    "Напишите функцию search_substr(subst, st), которая принимает 2 строки и\n",
    "определяет, имеется ли подстрока subst в строке st. В случае нахождения\n",
    "подстроки, возвращается фраза «Есть контакт!», а иначе «Мимо!». Должно\n",
    "быть найдено совпадение независимо от регистра обеих строк.\n",
    "'''\n",
    "\n",
    "def search_substr(subst, st):\n",
    "    subst1 = subst.lower()\n",
    "    st1 = st.lower()\n",
    "    if subst1 in st1:\n",
    "        print(\"Есть контакт\")\n",
    "    else:\n",
    "        print(\"Мимо!\")\n",
    "\n",
    "st: str = \"abc\"\n",
    "subst: str = \"AB\"\n",
    "search_substr(subst, st)"
   ]
  },
  {
   "cell_type": "code",
   "execution_count": 3,
   "id": "23df554e",
   "metadata": {},
   "outputs": [
    {
     "name": "stdout",
     "output_type": "stream",
     "text": [
      "{'!': 12, '\"': 0, '#': 6, '$': 0, '%': 0, '&': 0, \"'\": 0, '(': 0, ')': 0, '*': 1, '+': 0, ',': 0, '-': 8, '.': 0, '/': 0, '0': 0, '1': 2, '2': 3, '3': 1, '4': 0, '5': 0, '6': 4, '7': 2, '8': 3, '9': 0, ':': 0, ';': 0, '<': 0, '=': 0, '>': 0, '?': 0, '@': 1, 'A': 0, 'B': 0, 'C': 0, 'D': 0, 'E': 0, 'F': 0, 'G': 0, 'H': 0, 'I': 0, 'J': 0, 'K': 0, 'L': 0, 'M': 0, 'N': 0, 'O': 0, 'P': 0, 'Q': 0, 'R': 0, 'S': 0, 'T': 0, 'U': 0, 'V': 0, 'W': 0, 'X': 0, 'Y': 0, 'Z': 0, '[': 0, '\\\\': 0, ']': 0, '^': 0, '_': 0, '`': 0, 'a': 3, 'b': 9, 'c': 9, 'd': 3, 'e': 4, 'f': 0, 'g': 5, 'h': 6, 'i': 0, 'j': 0, 'k': 0, 'l': 0, 'm': 0, 'n': 0, 'o': 0, 'p': 0, 'q': 5, 'r': 0, 's': 2, 't': 0, 'u': 1, 'v': 2, 'w': 5, 'x': 0, 'y': 2, 'z': 0, '{': 0, '|': 0, '}': 0, '~': 0} \n",
      "\n",
      "\n",
      "\n",
      "['!', 'b', 'c']\n"
     ]
    }
   ],
   "source": [
    "'''\n",
    "На основании строки определить 3 наиболее часто встречаемых символа в\n",
    "ней. Пробелы нужно игнорировать (не учитывать при подсчете). Для простоты\n",
    "подсчета количества вхождений символов удобно использовать Counter из\n",
    "модуля collections.\n",
    "'''\n",
    "\n",
    "\n",
    "#symbols = {chr(i): 0 for i in range(ord('a'), ord('z')+1)}\n",
    "#symbols.update({chr(i): 0 for i in range(ord('A'), ord('Z')+1)})\n",
    "symbols = {}\n",
    "# Добавление символов из таблицы ASCII и цифр\n",
    "for i in range(33, 127):  # Таблица ASCII: диапазон от ! до ~\n",
    "    symbols[chr(i)] = 0\n",
    "\n",
    "inp: str = \"ahdsadsd8e8qwwuegqwheghqw                        vbhbahbghcccvccbbcbcbcbcb16266126!!!!!!!!!!!######!@73728*--------qyyqwgeg\"\n",
    "    \n",
    "for char in inp:\n",
    "    if char != ' ':\n",
    "        symbols[char] += 1\n",
    "\n",
    "print(symbols, \"\\n\\n\\n\")\n",
    "sorted_keys = sorted(symbols, key=symbols.get, reverse=True)\n",
    "print(sorted_keys[:3])"
   ]
  },
  {
   "cell_type": "code",
   "execution_count": 4,
   "id": "2c0cf79c",
   "metadata": {},
   "outputs": [
    {
     "name": "stdout",
     "output_type": "stream",
     "text": [
      "[0, 9, 8]\n"
     ]
    }
   ],
   "source": [
    "'''\n",
    "Дана строка в виде случайной последовательности чисел от 0 до 9. Требуется\n",
    "создать словарь, который в качестве ключей будет принимать данные числа (т.\n",
    "е. ключи будут типом int), а в качестве значений – количество этих чисел в\n",
    "имеющейся последовательности. Для построения словаря создайте функцию\n",
    "count_it(sequence), принимающую строку из цифр. Функция должна\n",
    "возвратить словарь из 3-х самых часто встречаемых чисел.\n",
    "'''\n",
    "\n",
    "digits = \"1223334444555556666667777777888888889999999990000000000\"\n",
    "symbols = {int(i): 0 for i in range(0, 9 + 1)}\n",
    "\n",
    "def count_it(sequence):\n",
    "    for char in digits:\n",
    "        if char != ' ':\n",
    "            sequence[int(char)] += 1\n",
    "    sorted_keys = sorted(sequence, key=sequence.get, reverse=True)\n",
    "    print(sorted_keys[:3])\n",
    "\n",
    "count_it(symbols)"
   ]
  },
  {
   "cell_type": "code",
   "execution_count": 5,
   "id": "573345a5",
   "metadata": {},
   "outputs": [
    {
     "name": "stdout",
     "output_type": "stream",
     "text": [
      "Координаты после хода:  (5, 5)\n",
      "Есть пробитие:\n",
      "Координаты после хода:  (5, 3)\n",
      "Координаты после хода:  (4, 6)\n",
      "Координаты после хода:  (2, 6)\n",
      "Координаты после хода:  (1, 5)\n",
      "Координаты после хода:  (1, 3)\n",
      "Координаты после хода:  (4, 2)\n",
      "Координаты после хода:  (2, 2)\n",
      "(5, 3)\n",
      "(4, 6)\n",
      "(2, 6)\n",
      "(1, 5)\n",
      "(1, 3)\n",
      "(4, 2)\n",
      "(2, 2)\n"
     ]
    }
   ],
   "source": [
    "'''\n",
    "Шахматы. у вас есть стандартное поле 8*8, после введения координат (a, b)\n",
    "нахождения вашей фигуры конь и фигуры соперника (с, d). Необходимо определить,\n",
    "угрожаете ли вы сопернику, с учетом того, что у вас есть ход. (проверить состояние\n",
    "до и после хода, координаты хода рассчитывается автоматически, соперник стоит на\n",
    "месте)\n",
    "'''\n",
    "def is_valid(x,y):\n",
    "    return 1 <= x <= 8 and 1 <= y <= 8\n",
    "\n",
    "coordinates = [(3,4), (5,5)] # 1 - knight, 2 - enemy\n",
    "\n",
    "if (is_valid(coordinates[0][0], coordinates[0][1]) == False  \n",
    "    or is_valid(coordinates[1][0], coordinates[1][1]) == False):\n",
    "    print(\"Invalid input\")\n",
    "\n",
    "second_turn_lst = []\n",
    "    \n",
    "def check_threat(knight_position, enemy_position):\n",
    "    moves = [(knight_position[0] + 2, knight_position[1] + 1),\n",
    "            (knight_position[0] + 2, knight_position[1] - 1),\n",
    "            (knight_position[0] + 1, knight_position[1] + 2),\n",
    "            (knight_position[0] - 1, knight_position[1] + 2),\n",
    "            (knight_position[0] - 2, knight_position[1] + 1),\n",
    "            (knight_position[0] - 2, knight_position[1] - 1),\n",
    "            (knight_position[0] + 1, knight_position[1] - 2),\n",
    "            (knight_position[0] - 1, knight_position[1] - 2)]\n",
    "    for move in moves:\n",
    "        print(\"Координаты после хода: \", move)\n",
    "        if (is_valid(move[0], move[1])):\n",
    "            if (move == enemy_position):\n",
    "                print(\"Есть пробитие:\")\n",
    "            else:\n",
    "                second_turn_lst.append(move)\n",
    "        else:\n",
    "            print(\"Выход за пределы поля\")\n",
    "check_threat(coordinates[0], coordinates[1])\n",
    "temp_second_turn_lst = second_turn_lst\n",
    "for move in temp_second_turn_lst:\n",
    "    print(move)\n",
    "    #check_threat(move, coordinates[1])"
   ]
  },
  {
   "cell_type": "code",
   "execution_count": null,
   "id": "2f4d07e2",
   "metadata": {},
   "outputs": [],
   "source": []
  }
 ],
 "metadata": {
  "kernelspec": {
   "display_name": "Python 3 (ipykernel)",
   "language": "python",
   "name": "python3"
  },
  "language_info": {
   "codemirror_mode": {
    "name": "ipython",
    "version": 3
   },
   "file_extension": ".py",
   "mimetype": "text/x-python",
   "name": "python",
   "nbconvert_exporter": "python",
   "pygments_lexer": "ipython3",
   "version": "3.11.5"
  }
 },
 "nbformat": 4,
 "nbformat_minor": 5
}
