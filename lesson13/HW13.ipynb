{
 "cells": [
  {
   "cell_type": "code",
   "execution_count": 1,
   "id": "37b42ebc",
   "metadata": {},
   "outputs": [
    {
     "data": {
      "text/plain": [
       "0.005"
      ]
     },
     "execution_count": 1,
     "metadata": {},
     "output_type": "execute_result"
    }
   ],
   "source": [
    "'''\n",
    "Из 1000 собранных на заводе телевизоров 5 штук бракованных.\n",
    "Эксперт проверяет один наугад выбранный телевизор из этой\n",
    "1000. Найдите вероятность того, что проверяемый телевизор\n",
    "окажется бракованным.\n",
    "'''\n",
    "\n",
    "5/1000"
   ]
  },
  {
   "cell_type": "code",
   "execution_count": 2,
   "id": "762bc347",
   "metadata": {},
   "outputs": [
    {
     "data": {
      "text/plain": [
       "0.3"
      ]
     },
     "execution_count": 2,
     "metadata": {},
     "output_type": "execute_result"
    }
   ],
   "source": [
    "'''\n",
    "В урне 9 красных, 6 жёлтых и 5 зелёных шаров. Из урны наугад\n",
    "достают один шар. Какова вероятность того, что этот шар\n",
    "окажется жёлтым?\n",
    "'''\n",
    "\n",
    "6 / (9 + 6 + 5)"
   ]
  },
  {
   "cell_type": "code",
   "execution_count": 3,
   "id": "b72afdf5",
   "metadata": {},
   "outputs": [
    {
     "data": {
      "text/plain": [
       "0.25"
      ]
     },
     "execution_count": 3,
     "metadata": {},
     "output_type": "execute_result"
    }
   ],
   "source": [
    "'''\n",
    "В чемпионате мира участвуют 16 команд. С помощью жребия\n",
    "их нужно разделить на четыре группы по четыре команды в\n",
    "каждой. В ящике вперемешку лежат карточки с номерами групп:\n",
    "1, 1, 1, 1, 2, 2, 2, 2, 3, 3, 3, 3, 4, 4, 4, 4. Капитаны команд тянут по\n",
    "одной карточке. Какова вероятность того, что команда\n",
    "Португалии окажется во второй группе?\n",
    "'''\n",
    "\n",
    "4 / 16"
   ]
  },
  {
   "cell_type": "code",
   "execution_count": 4,
   "id": "d8723a96",
   "metadata": {},
   "outputs": [
    {
     "data": {
      "text/plain": [
       "0.75"
      ]
     },
     "execution_count": 4,
     "metadata": {},
     "output_type": "execute_result"
    }
   ],
   "source": [
    "'''\n",
    "В группе туристов 8 человек. С помощью жребия они\n",
    "выбирают шестерых человек, которые должны идти в село в\n",
    "магазин за продуктами. Какова вероятность того, что турист Д.,\n",
    "входящий в состав группы, пойдёт в магазин?\n",
    "'''\n",
    "\n",
    "6 / 8"
   ]
  },
  {
   "cell_type": "code",
   "execution_count": 5,
   "id": "eeac92a4",
   "metadata": {},
   "outputs": [
    {
     "data": {
      "text/plain": [
       "0.75"
      ]
     },
     "execution_count": 5,
     "metadata": {},
     "output_type": "execute_result"
    }
   ],
   "source": [
    "'''\n",
    "В чемпионате по футболу участвуют 16 команд, которые\n",
    "жеребьевкой распределяются на 4 группы: A, B, C и D. Какова\n",
    "вероятность того, что команда Англии не попадает в группу A?\n",
    "'''\n",
    "\n",
    "12 / 16"
   ]
  },
  {
   "cell_type": "code",
   "execution_count": 6,
   "id": "c3397674",
   "metadata": {},
   "outputs": [
    {
     "data": {
      "text/plain": [
       "0.1"
      ]
     },
     "execution_count": 6,
     "metadata": {},
     "output_type": "execute_result"
    }
   ],
   "source": [
    "'''\n",
    "В классе 21 учащийся, среди них две подруги - Аня и Нина.\n",
    "Класс случайным образом делят на семь групп, по 3 человека в\n",
    "каждой. Найдите вероятность того, что Аня и Нина окажутся в\n",
    "одной группе.\n",
    "'''\n",
    "\n",
    "7/21 * 6/20"
   ]
  },
  {
   "cell_type": "code",
   "execution_count": 7,
   "id": "c2bdfb0b",
   "metadata": {},
   "outputs": [
    {
     "data": {
      "text/plain": [
       "0.4986111111111111"
      ]
     },
     "execution_count": 7,
     "metadata": {},
     "output_type": "execute_result"
    }
   ],
   "source": [
    "'''\n",
    "Механические часы с двенадцатичасовым циферблатом в\n",
    "какой-то момент сломались и перестали идти. Найдите\n",
    "вероятность того, что часовая стрелка остановилась, достигнув\n",
    "отметки 7, но не дойдя до отметки 1. \n",
    "'''\n",
    "(60 * 5 + 59) / (12 * 60)"
   ]
  },
  {
   "cell_type": "code",
   "execution_count": 8,
   "id": "cff76650",
   "metadata": {},
   "outputs": [
    {
     "data": {
      "text/plain": [
       "0.24861111111111112"
      ]
     },
     "execution_count": 8,
     "metadata": {},
     "output_type": "execute_result"
    }
   ],
   "source": [
    "'''\n",
    "Механические часы с двенадцатичасовым циферблатом в\n",
    "какой-то момент сломались и перестали ходить. Найдите\n",
    "вероятность того, что часовая стрелка застыла, достигнув\n",
    "отметки 6, но не дойдя до отметки 9 часов.\n",
    "'''\n",
    "\n",
    "(60 * 2 + 59) / (12 * 60)"
   ]
  },
  {
   "cell_type": "code",
   "execution_count": 10,
   "id": "ce907382",
   "metadata": {},
   "outputs": [
    {
     "data": {
      "text/plain": [
       "0.5"
      ]
     },
     "execution_count": 10,
     "metadata": {},
     "output_type": "execute_result"
    }
   ],
   "source": [
    "'''\n",
    "В случайном эксперименте симметричную монету бросают 2\n",
    "раза. Найдите вероятность того, что орел выпадет ровно 1 раз.\n",
    "'''\n",
    "\n",
    "1/2"
   ]
  },
  {
   "cell_type": "code",
   "execution_count": 11,
   "id": "0353ae52",
   "metadata": {},
   "outputs": [
    {
     "data": {
      "text/plain": [
       "0.25"
      ]
     },
     "execution_count": 11,
     "metadata": {},
     "output_type": "execute_result"
    }
   ],
   "source": [
    "'''\n",
    "В случайном эксперименте симметричную монету бросают\n",
    "дважды. Найдите вероятность того, что орёл не выпадет ни разу\n",
    "'''\n",
    "\n",
    "1/4"
   ]
  },
  {
   "cell_type": "code",
   "execution_count": 12,
   "id": "01f1dd53",
   "metadata": {},
   "outputs": [
    {
     "data": {
      "text/plain": [
       "0.81"
      ]
     },
     "execution_count": 12,
     "metadata": {},
     "output_type": "execute_result"
    }
   ],
   "source": [
    "'''\n",
    "Вероятность того, что новая шариковая ручка пишет плохо\n",
    "(или не пишет), равна 0,19. Покупатель в магазине выбирает одну\n",
    "такую ручку. Найдите вероятность того, что эта ручка пишет\n",
    "хорошо. \n",
    "\n",
    "'''\n",
    "\n",
    "1 - 0.19"
   ]
  },
  {
   "cell_type": "code",
   "execution_count": 13,
   "id": "42c57ac5",
   "metadata": {},
   "outputs": [
    {
     "data": {
      "text/plain": [
       "0.03500000000000003"
      ]
     },
     "execution_count": 13,
     "metadata": {},
     "output_type": "execute_result"
    }
   ],
   "source": [
    "'''\n",
    "При изготовлении подшипников диаметром 67 мм\n",
    "вероятность того, что диаметр будет отличаться от заданного не\n",
    "больше, чем на 0,01 мм, равна 0,965. Найдите вероятность того,\n",
    "что случайный подшипник будет иметь диаметр меньше чем\n",
    "66,99 мм или больше чем 67,01 мм.\n",
    "'''\n",
    "\n",
    "1 - 0.965"
   ]
  },
  {
   "cell_type": "code",
   "execution_count": 14,
   "id": "64fb9bd3",
   "metadata": {},
   "outputs": [
    {
     "data": {
      "text/plain": [
       "0.7"
      ]
     },
     "execution_count": 14,
     "metadata": {},
     "output_type": "execute_result"
    }
   ],
   "source": [
    "'''\n",
    "На экзамене по геометрии школьнику достаётся одна задача из\n",
    "сборника. Вероятность того, что эта задача по теме «Углы», равна\n",
    "0,1. Вероятность того, что это окажется задача по теме\n",
    "«Параллелограмм», равна 0,6. В сборнике нет задач, которые\n",
    "одновременно относятся к этим двум темам. Найдите вероятность\n",
    "того, что на экзамене школьнику достанется задача по одной из\n",
    "этих двух тем.\n",
    "'''\n",
    "\n",
    "0.1 + 0.6"
   ]
  },
  {
   "cell_type": "code",
   "execution_count": null,
   "id": "7feeb01e",
   "metadata": {},
   "outputs": [],
   "source": []
  }
 ],
 "metadata": {
  "kernelspec": {
   "display_name": "Python 3 (ipykernel)",
   "language": "python",
   "name": "python3"
  },
  "language_info": {
   "codemirror_mode": {
    "name": "ipython",
    "version": 3
   },
   "file_extension": ".py",
   "mimetype": "text/x-python",
   "name": "python",
   "nbconvert_exporter": "python",
   "pygments_lexer": "ipython3",
   "version": "3.11.5"
  }
 },
 "nbformat": 4,
 "nbformat_minor": 5
}
