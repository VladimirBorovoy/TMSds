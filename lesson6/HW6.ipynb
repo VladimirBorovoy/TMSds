{
 "cells": [
  {
   "cell_type": "code",
   "execution_count": 6,
   "id": "db697e6f",
   "metadata": {},
   "outputs": [
    {
     "name": "stdout",
     "output_type": "stream",
     "text": [
      "(8, 0)\n"
     ]
    }
   ],
   "source": [
    "'''\n",
    "В этом небольшом задании вам дается строка чисел, разделенных пробелами,\n",
    "и вы должны вернуть наибольшее и наименьшее число\n",
    "'''\n",
    "\n",
    "inp = \"1 2 5 4 8 0\"\n",
    "\n",
    "def find_max_min_int_str(inp : str) -> tuple:\n",
    "    temp: tuple = tuple(map(int, inp.split()))\n",
    "    result: tuple = max(temp), min(temp);\n",
    "    return result\n",
    "\n",
    "print(find_max_min_int_str(inp))"
   ]
  },
  {
   "cell_type": "code",
   "execution_count": 24,
   "id": "d4aae0b0",
   "metadata": {},
   "outputs": [
    {
     "name": "stdout",
     "output_type": "stream",
     "text": [
      "False\n"
     ]
    }
   ],
   "source": [
    "'''\n",
    "Банкоматы допускают использование 4- или 6-значных PIN-кодов, а PIN-коды не\n",
    "могут содержать ничего, кроме ровно 4 или ровно 6 цифр. Если функции\n",
    "передана действительная строка PIN-кода, return true, иначе return false.\n",
    "'''\n",
    "\n",
    "def check_PIN(inp: str) -> bool:\n",
    "    try:\n",
    "        int(inp)\n",
    "    except ValueError:\n",
    "        return False\n",
    "    else:\n",
    "        if len(inp) == 4 or len(inp) == 6:\n",
    "            return True\n",
    "        else:\n",
    "            return False\n",
    "print(check_PIN(\"1a1234\"))"
   ]
  },
  {
   "cell_type": "code",
   "execution_count": 25,
   "id": "3fe1182e",
   "metadata": {},
   "outputs": [
    {
     "data": {
      "text/plain": [
       "[1, 16, 4]"
      ]
     },
     "execution_count": 25,
     "metadata": {},
     "output_type": "execute_result"
    }
   ],
   "source": [
    "'''\n",
    "Учитывая целое число, определите, является ли оно квадратным : В\n",
    "математике квадратное число или идеальный квадрат — это целое число,\n",
    "которое является квадратом целого числа; другими словами, это\n",
    "произведение некоторого целого числа само на себя. На вход список, на\n",
    "выходе список чисел\n",
    "'''\n",
    "import math\n",
    "\n",
    "\n",
    "def find_sqr(num: int) -> bool:\n",
    "    return num // math.sqrt(num) == math.sqrt(num) if num > 0 else False\n",
    "\n",
    "list(filter(find_sqr, [1,16,3,4,5, 0]))"
   ]
  },
  {
   "cell_type": "code",
   "execution_count": 26,
   "id": "de4d10b4",
   "metadata": {},
   "outputs": [
    {
     "name": "stdout",
     "output_type": "stream",
     "text": [
      "[1, 2, 3, 4, 5]\n"
     ]
    }
   ],
   "source": [
    "'''\n",
    "Реализуйте функцию unique_in_order, которая принимает в качестве аргумента\n",
    "последовательность и возвращает список элементов без каких-либо элементов\n",
    "с одинаковым значением рядом друг с другом и сохраняет исходный порядок\n",
    "элементов.\n",
    "'''\n",
    "\n",
    "def unique_in_order(nums:lst) -> lst:\n",
    "    result: list = []\n",
    "    for index, value in enumerate(nums):\n",
    "        if value != nums[index - 1]:\n",
    "            result.append(value)\n",
    "    return result\n",
    "print(unique_in_order([1,1,2,3,4,4,4,5]))"
   ]
  },
  {
   "cell_type": "code",
   "execution_count": 37,
   "id": "ddb2a6f2",
   "metadata": {},
   "outputs": [
    {
     "data": {
      "text/plain": [
       "2"
      ]
     },
     "execution_count": 37,
     "metadata": {},
     "output_type": "execute_result"
    }
   ],
   "source": [
    "'''\n",
    "Просто, учитывая строку слов, верните длину самого короткого слова (слов).\n",
    "Строка никогда не будет пустой, и вам не нужно учитывать разные типы данных.\n",
    "'''\n",
    "from functools import reduce\n",
    "def find_shortest_str(first_word: str, second_word:str) -> bool:\n",
    "    return first_word if len(first_word) < len(second_word) else second_word\n",
    "\n",
    "len(reduce(find_shortest_str, \"abab 12 gg 123\".split()))\n"
   ]
  },
  {
   "cell_type": "code",
   "execution_count": 1,
   "id": "cec3e332",
   "metadata": {},
   "outputs": [
    {
     "name": "stdout",
     "output_type": "stream",
     "text": [
      "7\n"
     ]
    }
   ],
   "source": [
    "'''\n",
    "Цифровой корень — это рекурсивная сумма всех цифр числа. Учитывая n,\n",
    "возьмите сумму цифр n. Если это значение имеет более одной цифры,\n",
    "продолжайте уменьшать таким образом, пока не получите однозначное число.\n",
    "Входные данные будут неотрицательным целым числом\n",
    "'''\n",
    "\n",
    "def digital_root(num: int) -> int:\n",
    "    if num > 9:\n",
    "        sum_nums = sum(int(digit) for digit in str(num))\n",
    "        return digital_root(sum_nums)\n",
    "    else:\n",
    "        return num\n",
    "print(digital_root(65536))"
   ]
  },
  {
   "cell_type": "code",
   "execution_count": 9,
   "id": "48f37c6e",
   "metadata": {},
   "outputs": [
    {
     "data": {
      "text/plain": [
       "'32'"
      ]
     },
     "execution_count": 9,
     "metadata": {},
     "output_type": "execute_result"
    }
   ],
   "source": [
    "'''\n",
    "Вам будет предоставлено слово. Ваша задача — вернуть средний символ\n",
    "слова. Если длина слова нечетная, верните средний символ. Если длина слова\n",
    "четная, верните 2 средних символа.\n",
    "'''\n",
    "\n",
    "def find_middle_char(inp: str) -> str:\n",
    "    return inp[len(inp) // 2] if len(inp) % 2 != 0 else inp[len(inp) // 2 - 1] + inp[len(inp) // 2] \n",
    "\n",
    "find_middle_char(\"a32c\")"
   ]
  },
  {
   "cell_type": "code",
   "execution_count": 20,
   "id": "3f61fc76",
   "metadata": {},
   "outputs": [
    {
     "data": {
      "text/plain": [
       "False"
      ]
     },
     "execution_count": 20,
     "metadata": {},
     "output_type": "execute_result"
    }
   ],
   "source": [
    "'''\n",
    "Определите функцию, которая принимает целочисленный аргумент и\n",
    "возвращает логическое значение trueили falseв зависимости от того, является\n",
    "ли целое число простым.\n",
    "'''\n",
    "\n",
    "def is_simple(num: int) -> bool:\n",
    "    if num == 1:\n",
    "        return True\n",
    "    else:\n",
    "        for delitel in range(2, int(num ** 0.5) + 1):\n",
    "            if num % delitel == 0:\n",
    "                return False\n",
    "        return True\n",
    "is_simple(16)"
   ]
  },
  {
   "cell_type": "code",
   "execution_count": 25,
   "id": "559fbe49",
   "metadata": {},
   "outputs": [
    {
     "data": {
      "text/plain": [
       "'odd'"
      ]
     },
     "execution_count": 25,
     "metadata": {},
     "output_type": "execute_result"
    }
   ],
   "source": [
    "'''\n",
    "Учитывая список целых чисел, определите, является ли сумма его элементов\n",
    "нечетной или четной.\n",
    "'''\n",
    "\n",
    "def even_or_odd_sum(nums: list) -> str:\n",
    "    return \"even\" if (sum(int(value) for value in nums)) % 2 == 0 else \"odd\"\n",
    "\n",
    "even_or_odd_sum([1,2,3,3])"
   ]
  },
  {
   "cell_type": "code",
   "execution_count": 32,
   "id": "5a219395",
   "metadata": {},
   "outputs": [
    {
     "data": {
      "text/plain": [
       "'\\nЧерез filter отобрать значения, расположенных в виде песочных часов в квадратном вложенном списке и найти сумму этих элементов\\n'"
      ]
     },
     "execution_count": 32,
     "metadata": {},
     "output_type": "execute_result"
    }
   ],
   "source": [
    "'''\n",
    "Через filter отобрать значения, расположенных в виде песочных часов в квадратном вложенном списке и найти сумму этих элементов\n",
    "'''\n"
   ]
  },
  {
   "cell_type": "code",
   "execution_count": null,
   "id": "85136907",
   "metadata": {},
   "outputs": [],
   "source": []
  }
 ],
 "metadata": {
  "kernelspec": {
   "display_name": "Python 3 (ipykernel)",
   "language": "python",
   "name": "python3"
  },
  "language_info": {
   "codemirror_mode": {
    "name": "ipython",
    "version": 3
   },
   "file_extension": ".py",
   "mimetype": "text/x-python",
   "name": "python",
   "nbconvert_exporter": "python",
   "pygments_lexer": "ipython3",
   "version": "3.11.5"
  }
 },
 "nbformat": 4,
 "nbformat_minor": 5
}
