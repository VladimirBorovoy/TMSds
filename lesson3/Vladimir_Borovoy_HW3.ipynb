{
 "cells": [
  {
   "cell_type": "code",
   "execution_count": 8,
   "id": "4b697a23",
   "metadata": {},
   "outputs": [
    {
     "name": "stdout",
     "output_type": "stream",
     "text": [
      "x^2-12x+20=0\n"
     ]
    }
   ],
   "source": [
    "import math\n",
    "formula: str= input()"
   ]
  },
  {
   "cell_type": "code",
   "execution_count": 9,
   "id": "88f6cc48",
   "metadata": {},
   "outputs": [],
   "source": [
    "abc = []\n",
    "temp: str = \"\"\n",
    "a_with_minus_flag: int = 0\n",
    "i:int = 0\n",
    "\n",
    "if (formula[0] == '-'):\n",
    "    temp += '-'\n",
    "    i += 1"
   ]
  },
  {
   "cell_type": "code",
   "execution_count": 10,
   "id": "2d360021",
   "metadata": {},
   "outputs": [
    {
     "name": "stdout",
     "output_type": "stream",
     "text": [
      "['', '-12', '20']\n"
     ]
    }
   ],
   "source": [
    "while (i < len(formula)):\n",
    "    if (formula[i].isdigit()):\n",
    "        temp += formula[i]\n",
    "    if (formula[i] == '^'):\n",
    "        i += 1\n",
    "    if (formula[i] == '+' or formula[i] == '=' or formula[i] == '-'):\n",
    "        abc.append(temp)\n",
    "        temp = \"\"\n",
    "        if (formula[i] == '-'):\n",
    "            temp += '-'\n",
    "    i += 1\n",
    "print(abc)"
   ]
  },
  {
   "cell_type": "code",
   "execution_count": 11,
   "id": "097f0b06",
   "metadata": {},
   "outputs": [
    {
     "name": "stdout",
     "output_type": "stream",
     "text": [
      "[1, -12, 20]\n",
      "The first root:  10.0  the second root:  2.0\n"
     ]
    }
   ],
   "source": [
    "for i in range(0,len(abc)):\n",
    "    if (abc[i] == '-'):\n",
    "        abc[i] = -1\n",
    "    elif (abc[i] == ''):\n",
    "        abc[i] = 1\n",
    "    else:\n",
    "        abc[i] = int(abc[i])\n",
    "print(abc)\n",
    "Discr: int = abc[1]**2 - 4*abc[0]*abc[2]\n",
    "\n",
    "if (Discr < 0):\n",
    "    print(\"There aren't any existing roots\")\n",
    "if (Discr == 0):\n",
    "    print(\"Dicriminant = 0, the root:\", -abc[1]//2*abc[0])\n",
    "if (Discr > 0):\n",
    "    print(\"The first root: \", (-abc[1]+math.sqrt(Discr))//2*abc[0], \" the second root: \", (-abc[1]-math.sqrt(Discr))//2*abc[0])"
   ]
  },
  {
   "cell_type": "code",
   "execution_count": 3,
   "id": "20d64bc3",
   "metadata": {},
   "outputs": [
    {
     "name": "stdout",
     "output_type": "stream",
     "text": [
      "15.5\n",
      "True\n",
      "abc\n",
      "1\n"
     ]
    }
   ],
   "source": [
    "# 2\n",
    "\n",
    "lst = [1, \"abc\", True, 15.5]\n",
    "for item in reversed(lst):\n",
    "    print(item)"
   ]
  },
  {
   "cell_type": "code",
   "execution_count": 4,
   "id": "230a094f",
   "metadata": {},
   "outputs": [
    {
     "name": "stdout",
     "output_type": "stream",
     "text": [
      "[True, 2, 4]\n"
     ]
    }
   ],
   "source": [
    "# 3\n",
    "def change(lst2):\n",
    "    temp = lst2[0]\n",
    "    lst2[0] = lst[len(lst2) - 1]\n",
    "    lst2[len(lst2) - 1] = temp\n",
    "lst2 = [4, 2, 3]    \n",
    "change(lst2)\n",
    "print(lst2)"
   ]
  },
  {
   "cell_type": "code",
   "execution_count": 5,
   "id": "9bc18335",
   "metadata": {},
   "outputs": [
    {
     "name": "stdout",
     "output_type": "stream",
     "text": [
      "0.75\n"
     ]
    }
   ],
   "source": [
    "#4\n",
    "\n",
    "arr = [1,2,3,4,5,4,6,8,9,2,4,5]\n",
    "\n",
    "max_el = arr[0]\n",
    "\n",
    "for i in range(1, len(arr) - 1):\n",
    "    if arr[i] > max_el:\n",
    "        max_el = arr[i]\n",
    "print(max_el / len(arr))"
   ]
  },
  {
   "cell_type": "code",
   "execution_count": 7,
   "id": "263c643d",
   "metadata": {},
   "outputs": [
    {
     "name": "stdout",
     "output_type": "stream",
     "text": [
      "['crot___', 'belka__', 'vihuhol']\n"
     ]
    }
   ],
   "source": [
    "#5\n",
    "\n",
    "str_lst = ['crot', 'belka', 'vihuhol']\n",
    "max_len = 0\n",
    "for value in str_lst:\n",
    "    if (len(value) > max_len):\n",
    "        max_len = len(value)\n",
    "\n",
    "i = 0\n",
    "while (i < len(str_lst)):\n",
    "    if (len(str_lst[i]) < max_len):\n",
    "        for j in range(max_len - len(str_lst[i])):\n",
    "            str_lst[i] += '_'\n",
    "            \n",
    "    i += 1\n",
    "print (str_lst)"
   ]
  },
  {
   "cell_type": "code",
   "execution_count": 17,
   "id": "511123c3",
   "metadata": {},
   "outputs": [
    {
     "name": "stdout",
     "output_type": "stream",
     "text": [
      "[0, 1, 2, 3, 4, 5, 6, 7, 8, 9, 9] 25\n"
     ]
    }
   ],
   "source": [
    "#bubble sort\n",
    "lst = [1,8,9,2,4,6,3,7,0,9,5]\n",
    "\n",
    "counter: int = 0\n",
    "\n",
    "for i in range(0,len(lst) - 1):\n",
    "    for j in range(0, len(lst) - 1 - i ):\n",
    "        if (lst[j] > lst[j+1]):\n",
    "            temp = lst[j]\n",
    "            lst[j] = lst[j+1]\n",
    "            lst[j+1] = temp\n",
    "            counter += 1\n",
    "print(lst, counter)\n"
   ]
  },
  {
   "cell_type": "code",
   "execution_count": 16,
   "id": "cab80189",
   "metadata": {},
   "outputs": [
    {
     "name": "stdout",
     "output_type": "stream",
     "text": [
      "[0, 1, 2, 3, 4, 5, 6, 7, 8, 9, 9] 25\n"
     ]
    }
   ],
   "source": [
    "# shaker sort\n",
    "lst = [1,8,9,2,4,6,3,7,0,9,5]\n",
    "flag = True\n",
    "start_i: int = 0\n",
    "end_i: int = len(lst) - 1\n",
    "counter: int = 0\n",
    "while(flag):\n",
    "    flag = False\n",
    "    for i in range(start_i, end_i):\n",
    "        if (lst[i] > lst[i+1]):\n",
    "            temp = lst[i]\n",
    "            lst[i] = lst[i+1]\n",
    "            lst[i+1] = temp\n",
    "            flag = True\n",
    "            counter += 1\n",
    "    if(not(flag)):\n",
    "        break\n",
    "    flag = False\n",
    "    end_i -= 1\n",
    "    for i in range(end_i - 1,start_i - 1, -1):\n",
    "        if (lst[i] > lst[i+1]):\n",
    "            temp = lst[i]\n",
    "            lst[i] = lst[i+1]\n",
    "            lst[i+1] = temp\n",
    "            flag = True\n",
    "            counter += 1\n",
    "    start_i += 1\n",
    "print(lst, counter)"
   ]
  },
  {
   "cell_type": "code",
   "execution_count": null,
   "id": "5b227dee",
   "metadata": {},
   "outputs": [],
   "source": []
  }
 ],
 "metadata": {
  "kernelspec": {
   "display_name": "Python 3 (ipykernel)",
   "language": "python",
   "name": "python3"
  },
  "language_info": {
   "codemirror_mode": {
    "name": "ipython",
    "version": 3
   },
   "file_extension": ".py",
   "mimetype": "text/x-python",
   "name": "python",
   "nbconvert_exporter": "python",
   "pygments_lexer": "ipython3",
   "version": "3.11.5"
  }
 },
 "nbformat": 4,
 "nbformat_minor": 5
}
